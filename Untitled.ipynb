{
 "cells": [
  {
   "cell_type": "code",
<<<<<<< HEAD
   "execution_count": 2,
=======
   "execution_count": 19,
>>>>>>> 580d66bfde26e8722ba934ca011d332963f4fea3
   "metadata": {},
   "outputs": [],
   "source": [
    "import pandas as pd\n",
<<<<<<< HEAD
    "import matplotlib as plt\n",
=======
>>>>>>> 580d66bfde26e8722ba934ca011d332963f4fea3
    "%matplotlib inline"
   ]
  },
  {
   "cell_type": "code",
<<<<<<< HEAD
   "execution_count": 3,
=======
   "execution_count": 13,
>>>>>>> 580d66bfde26e8722ba934ca011d332963f4fea3
   "metadata": {},
   "outputs": [
    {
     "data": {
      "text/html": [
       "<div>\n",
       "<style scoped>\n",
       "    .dataframe tbody tr th:only-of-type {\n",
       "        vertical-align: middle;\n",
       "    }\n",
       "\n",
       "    .dataframe tbody tr th {\n",
       "        vertical-align: top;\n",
       "    }\n",
       "\n",
       "    .dataframe thead th {\n",
       "        text-align: right;\n",
       "    }\n",
       "</style>\n",
       "<table border=\"1\" class=\"dataframe\">\n",
       "  <thead>\n",
       "    <tr style=\"text-align: right;\">\n",
       "      <th></th>\n",
       "      <th>Age</th>\n",
       "      <th>Sex</th>\n",
       "      <th>Chest pain type</th>\n",
       "      <th>BP</th>\n",
       "      <th>Cholesterol</th>\n",
       "      <th>FBS over 120</th>\n",
       "      <th>EKG results</th>\n",
       "      <th>Max HR</th>\n",
       "      <th>Exercise angina</th>\n",
       "      <th>ST depression</th>\n",
       "      <th>Slope of ST</th>\n",
       "      <th>Number of vessels fluro</th>\n",
       "      <th>Thallium</th>\n",
       "      <th>Heart Disease</th>\n",
       "    </tr>\n",
       "  </thead>\n",
       "  <tbody>\n",
       "    <tr>\n",
       "      <th>0</th>\n",
       "      <td>70</td>\n",
       "      <td>1</td>\n",
       "      <td>4</td>\n",
       "      <td>130</td>\n",
       "      <td>322</td>\n",
       "      <td>0</td>\n",
       "      <td>2</td>\n",
       "      <td>109</td>\n",
       "      <td>0</td>\n",
       "      <td>2.4</td>\n",
       "      <td>2</td>\n",
       "      <td>3</td>\n",
       "      <td>3</td>\n",
       "      <td>Presence</td>\n",
       "    </tr>\n",
       "    <tr>\n",
       "      <th>1</th>\n",
       "      <td>67</td>\n",
       "      <td>0</td>\n",
       "      <td>3</td>\n",
       "      <td>115</td>\n",
       "      <td>564</td>\n",
       "      <td>0</td>\n",
       "      <td>2</td>\n",
       "      <td>160</td>\n",
       "      <td>0</td>\n",
       "      <td>1.6</td>\n",
       "      <td>2</td>\n",
       "      <td>0</td>\n",
       "      <td>7</td>\n",
       "      <td>Absence</td>\n",
       "    </tr>\n",
       "    <tr>\n",
       "      <th>2</th>\n",
       "      <td>57</td>\n",
       "      <td>1</td>\n",
       "      <td>2</td>\n",
       "      <td>124</td>\n",
       "      <td>261</td>\n",
       "      <td>0</td>\n",
       "      <td>0</td>\n",
       "      <td>141</td>\n",
       "      <td>0</td>\n",
       "      <td>0.3</td>\n",
       "      <td>1</td>\n",
       "      <td>0</td>\n",
       "      <td>7</td>\n",
       "      <td>Presence</td>\n",
       "    </tr>\n",
       "    <tr>\n",
       "      <th>3</th>\n",
       "      <td>64</td>\n",
       "      <td>1</td>\n",
       "      <td>4</td>\n",
       "      <td>128</td>\n",
       "      <td>263</td>\n",
       "      <td>0</td>\n",
       "      <td>0</td>\n",
       "      <td>105</td>\n",
       "      <td>1</td>\n",
       "      <td>0.2</td>\n",
       "      <td>2</td>\n",
       "      <td>1</td>\n",
       "      <td>7</td>\n",
       "      <td>Absence</td>\n",
       "    </tr>\n",
       "    <tr>\n",
       "      <th>4</th>\n",
       "      <td>74</td>\n",
       "      <td>0</td>\n",
       "      <td>2</td>\n",
       "      <td>120</td>\n",
       "      <td>269</td>\n",
       "      <td>0</td>\n",
       "      <td>2</td>\n",
       "      <td>121</td>\n",
       "      <td>1</td>\n",
       "      <td>0.2</td>\n",
       "      <td>1</td>\n",
       "      <td>1</td>\n",
       "      <td>3</td>\n",
       "      <td>Absence</td>\n",
       "    </tr>\n",
       "  </tbody>\n",
       "</table>\n",
       "</div>"
      ],
      "text/plain": [
       "   Age  Sex  Chest pain type   BP  Cholesterol  FBS over 120  EKG results  \\\n",
       "0   70    1                4  130          322             0            2   \n",
       "1   67    0                3  115          564             0            2   \n",
       "2   57    1                2  124          261             0            0   \n",
       "3   64    1                4  128          263             0            0   \n",
       "4   74    0                2  120          269             0            2   \n",
       "\n",
       "   Max HR  Exercise angina  ST depression  Slope of ST  \\\n",
       "0     109                0            2.4            2   \n",
       "1     160                0            1.6            2   \n",
       "2     141                0            0.3            1   \n",
       "3     105                1            0.2            2   \n",
       "4     121                1            0.2            1   \n",
       "\n",
       "   Number of vessels fluro  Thallium Heart Disease  \n",
       "0                        3         3      Presence  \n",
       "1                        0         7       Absence  \n",
       "2                        0         7      Presence  \n",
       "3                        1         7       Absence  \n",
       "4                        1         3       Absence  "
      ]
     },
<<<<<<< HEAD
     "execution_count": 3,
=======
     "execution_count": 13,
>>>>>>> 580d66bfde26e8722ba934ca011d332963f4fea3
     "metadata": {},
     "output_type": "execute_result"
    }
   ],
   "source": [
    "df = pd.read_csv('Heart_Disease_Prediction.csv')\n",
    "df.head()"
   ]
  },
  {
   "cell_type": "code",
<<<<<<< HEAD
   "execution_count": 4,
=======
   "execution_count": 14,
>>>>>>> 580d66bfde26e8722ba934ca011d332963f4fea3
   "metadata": {},
   "outputs": [
    {
     "data": {
      "text/plain": [
       "Index(['Age', 'Sex', 'Chest pain type', 'BP', 'Cholesterol', 'FBS over 120',\n",
       "       'EKG results', 'Max HR', 'Exercise angina', 'ST depression',\n",
       "       'Slope of ST', 'Number of vessels fluro', 'Thallium', 'Heart Disease'],\n",
       "      dtype='object')"
      ]
     },
<<<<<<< HEAD
     "execution_count": 4,
=======
     "execution_count": 14,
>>>>>>> 580d66bfde26e8722ba934ca011d332963f4fea3
     "metadata": {},
     "output_type": "execute_result"
    }
   ],
   "source": [
    "df.columns"
   ]
  },
  {
   "cell_type": "code",
<<<<<<< HEAD
   "execution_count": 17,
   "metadata": {},
   "outputs": [
    {
     "name": "stdout",
     "output_type": "stream",
     "text": [
      "<class 'pandas.core.frame.DataFrame'>\n",
      "RangeIndex: 270 entries, 0 to 269\n",
      "Data columns (total 14 columns):\n",
      "Age                        270 non-null int64\n",
      "Sex                        270 non-null int64\n",
      "Chest pain type            270 non-null int64\n",
      "BP                         270 non-null int64\n",
      "Cholesterol                270 non-null int64\n",
      "FBS over 120               270 non-null int64\n",
      "EKG results                270 non-null int64\n",
      "Max HR                     270 non-null int64\n",
      "Exercise angina            270 non-null int64\n",
      "ST depression              270 non-null float64\n",
      "Slope of ST                270 non-null int64\n",
      "Number of vessels fluro    270 non-null int64\n",
      "Thallium                   270 non-null int64\n",
      "Heart Disease              270 non-null object\n",
      "dtypes: float64(1), int64(12), object(1)\n",
      "memory usage: 29.6+ KB\n"
     ]
    }
   ],
   "source": [
    "df.info()"
   ]
  },
  {
   "cell_type": "code",
   "execution_count": 5,
   "metadata": {
    "scrolled": true
   },
   "outputs": [
    {
     "data": {
      "text/plain": [
       "<matplotlib.axes._subplots.AxesSubplot at 0x251258f7630>"
      ]
     },
     "execution_count": 5,
=======
   "execution_count": 35,
   "metadata": {},
   "outputs": [
    {
     "data": {
      "text/plain": [
       "<matplotlib.axes._subplots.AxesSubplot at 0x209975ec470>"
      ]
     },
     "execution_count": 35,
>>>>>>> 580d66bfde26e8722ba934ca011d332963f4fea3
     "metadata": {},
     "output_type": "execute_result"
    },
    {
     "data": {
      "image/png": "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\n",
      "text/plain": [
       "<Figure size 432x288 with 1 Axes>"
      ]
     },
     "metadata": {
      "needs_background": "light"
     },
     "output_type": "display_data"
    }
   ],
   "source": [
    "df.Age.plot(kind='hist')"
   ]
  },
  {
   "cell_type": "code",
<<<<<<< HEAD
   "execution_count": 6,
=======
   "execution_count": 38,
>>>>>>> 580d66bfde26e8722ba934ca011d332963f4fea3
   "metadata": {},
   "outputs": [
    {
     "data": {
      "text/plain": [
<<<<<<< HEAD
       "<matplotlib.axes._subplots.AxesSubplot at 0x25125c2ac18>"
      ]
     },
     "execution_count": 6,
=======
       "<matplotlib.axes._subplots.AxesSubplot at 0x20997711f98>"
      ]
     },
     "execution_count": 38,
>>>>>>> 580d66bfde26e8722ba934ca011d332963f4fea3
     "metadata": {},
     "output_type": "execute_result"
    },
    {
     "data": {
      "image/png": "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\n",
      "text/plain": [
       "<Figure size 432x288 with 1 Axes>"
      ]
     },
     "metadata": {
      "needs_background": "light"
     },
     "output_type": "display_data"
    }
   ],
   "source": [
    "df.Sex.plot(kind='hist')"
   ]
  },
  {
   "cell_type": "code",
<<<<<<< HEAD
   "execution_count": 7,
=======
   "execution_count": 39,
>>>>>>> 580d66bfde26e8722ba934ca011d332963f4fea3
   "metadata": {},
   "outputs": [
    {
     "data": {
      "text/plain": [
<<<<<<< HEAD
       "<matplotlib.axes._subplots.AxesSubplot at 0x25125ce2d30>"
      ]
     },
     "execution_count": 7,
=======
       "<matplotlib.axes._subplots.AxesSubplot at 0x209977923c8>"
      ]
     },
     "execution_count": 39,
>>>>>>> 580d66bfde26e8722ba934ca011d332963f4fea3
     "metadata": {},
     "output_type": "execute_result"
    },
    {
     "data": {
      "image/png": "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\n",
      "text/plain": [
       "<Figure size 432x288 with 1 Axes>"
      ]
     },
     "metadata": {
      "needs_background": "light"
     },
     "output_type": "display_data"
    }
   ],
   "source": [
    "df['Chest pain type'].plot(kind='hist')"
   ]
  },
  {
   "cell_type": "code",
<<<<<<< HEAD
   "execution_count": 8,
=======
   "execution_count": 43,
>>>>>>> 580d66bfde26e8722ba934ca011d332963f4fea3
   "metadata": {},
   "outputs": [
    {
     "data": {
      "text/html": [
       "<div>\n",
       "<style scoped>\n",
       "    .dataframe tbody tr th:only-of-type {\n",
       "        vertical-align: middle;\n",
       "    }\n",
       "\n",
       "    .dataframe tbody tr th {\n",
       "        vertical-align: top;\n",
       "    }\n",
       "\n",
       "    .dataframe thead th {\n",
       "        text-align: right;\n",
       "    }\n",
       "</style>\n",
       "<table border=\"1\" class=\"dataframe\">\n",
       "  <thead>\n",
       "    <tr style=\"text-align: right;\">\n",
       "      <th></th>\n",
       "      <th>Cholesterol</th>\n",
       "      <th>Heart Disease</th>\n",
       "    </tr>\n",
       "  </thead>\n",
       "  <tbody>\n",
       "    <tr>\n",
       "      <th>0</th>\n",
       "      <td>322</td>\n",
       "      <td>Presence</td>\n",
       "    </tr>\n",
       "    <tr>\n",
       "      <th>1</th>\n",
       "      <td>564</td>\n",
       "      <td>Absence</td>\n",
       "    </tr>\n",
       "    <tr>\n",
       "      <th>2</th>\n",
       "      <td>261</td>\n",
       "      <td>Presence</td>\n",
       "    </tr>\n",
       "    <tr>\n",
       "      <th>3</th>\n",
       "      <td>263</td>\n",
       "      <td>Absence</td>\n",
       "    </tr>\n",
       "    <tr>\n",
       "      <th>4</th>\n",
       "      <td>269</td>\n",
       "      <td>Absence</td>\n",
       "    </tr>\n",
       "  </tbody>\n",
       "</table>\n",
       "</div>"
      ],
      "text/plain": [
       "   Cholesterol Heart Disease\n",
       "0          322      Presence\n",
       "1          564       Absence\n",
       "2          261      Presence\n",
       "3          263       Absence\n",
       "4          269       Absence"
      ]
     },
<<<<<<< HEAD
     "execution_count": 8,
=======
     "execution_count": 43,
>>>>>>> 580d66bfde26e8722ba934ca011d332963f4fea3
     "metadata": {},
     "output_type": "execute_result"
    }
   ],
   "source": [
    "df[['Cholesterol', 'Heart Disease']].head()"
   ]
  },
  {
   "cell_type": "code",
<<<<<<< HEAD
   "execution_count": 24,
   "metadata": {},
   "outputs": [
    {
     "data": {
      "text/plain": [
       "Absence     150\n",
       "Presence    120\n",
       "Name: Heart Disease, dtype: int64"
      ]
     },
     "execution_count": 24,
     "metadata": {},
     "output_type": "execute_result"
    }
   ],
   "source": [
    "df['Heart Disease'].value_counts()"
   ]
  },
  {
   "cell_type": "code",
   "execution_count": 44,
=======
   "execution_count": 42,
>>>>>>> 580d66bfde26e8722ba934ca011d332963f4fea3
   "metadata": {
    "scrolled": true
   },
   "outputs": [
    {
<<<<<<< HEAD
     "data": {
      "text/html": [
       "<div>\n",
       "<style scoped>\n",
       "    .dataframe tbody tr th:only-of-type {\n",
       "        vertical-align: middle;\n",
       "    }\n",
       "\n",
       "    .dataframe tbody tr th {\n",
       "        vertical-align: top;\n",
       "    }\n",
       "\n",
       "    .dataframe thead th {\n",
       "        text-align: right;\n",
       "    }\n",
       "</style>\n",
       "<table border=\"1\" class=\"dataframe\">\n",
       "  <thead>\n",
       "    <tr style=\"text-align: right;\">\n",
       "      <th></th>\n",
       "      <th>Age</th>\n",
       "      <th>Sex</th>\n",
       "      <th>Chest pain type</th>\n",
       "      <th>BP</th>\n",
       "      <th>Cholesterol</th>\n",
       "      <th>FBS over 120</th>\n",
       "      <th>EKG results</th>\n",
       "      <th>Max HR</th>\n",
       "      <th>Exercise angina</th>\n",
       "      <th>ST depression</th>\n",
       "      <th>Slope of ST</th>\n",
       "      <th>Number of vessels fluro</th>\n",
       "      <th>Thallium</th>\n",
       "      <th>Heart Disease</th>\n",
       "    </tr>\n",
       "  </thead>\n",
       "  <tbody>\n",
       "    <tr>\n",
       "      <th>0</th>\n",
       "      <td>70</td>\n",
       "      <td>0</td>\n",
       "      <td>4</td>\n",
       "      <td>130</td>\n",
       "      <td>322</td>\n",
       "      <td>0</td>\n",
       "      <td>2</td>\n",
       "      <td>109</td>\n",
       "      <td>0</td>\n",
       "      <td>2.4</td>\n",
       "      <td>2</td>\n",
       "      <td>3</td>\n",
       "      <td>3</td>\n",
       "      <td>Presence</td>\n",
       "    </tr>\n",
       "    <tr>\n",
       "      <th>2</th>\n",
       "      <td>57</td>\n",
       "      <td>0</td>\n",
       "      <td>2</td>\n",
       "      <td>124</td>\n",
       "      <td>261</td>\n",
       "      <td>0</td>\n",
       "      <td>0</td>\n",
       "      <td>141</td>\n",
       "      <td>0</td>\n",
       "      <td>0.3</td>\n",
       "      <td>1</td>\n",
       "      <td>0</td>\n",
       "      <td>7</td>\n",
       "      <td>Presence</td>\n",
       "    </tr>\n",
       "    <tr>\n",
       "      <th>6</th>\n",
       "      <td>56</td>\n",
       "      <td>0</td>\n",
       "      <td>3</td>\n",
       "      <td>130</td>\n",
       "      <td>256</td>\n",
       "      <td>1</td>\n",
       "      <td>2</td>\n",
       "      <td>142</td>\n",
       "      <td>1</td>\n",
       "      <td>0.6</td>\n",
       "      <td>2</td>\n",
       "      <td>1</td>\n",
       "      <td>6</td>\n",
       "      <td>Presence</td>\n",
       "    </tr>\n",
       "    <tr>\n",
       "      <th>7</th>\n",
       "      <td>59</td>\n",
       "      <td>0</td>\n",
       "      <td>4</td>\n",
       "      <td>110</td>\n",
       "      <td>239</td>\n",
       "      <td>0</td>\n",
       "      <td>2</td>\n",
       "      <td>142</td>\n",
       "      <td>1</td>\n",
       "      <td>1.2</td>\n",
       "      <td>2</td>\n",
       "      <td>1</td>\n",
       "      <td>7</td>\n",
       "      <td>Presence</td>\n",
       "    </tr>\n",
       "    <tr>\n",
       "      <th>8</th>\n",
       "      <td>60</td>\n",
       "      <td>0</td>\n",
       "      <td>4</td>\n",
       "      <td>140</td>\n",
       "      <td>293</td>\n",
       "      <td>0</td>\n",
       "      <td>2</td>\n",
       "      <td>170</td>\n",
       "      <td>0</td>\n",
       "      <td>1.2</td>\n",
       "      <td>2</td>\n",
       "      <td>2</td>\n",
       "      <td>7</td>\n",
       "      <td>Presence</td>\n",
       "    </tr>\n",
       "  </tbody>\n",
       "</table>\n",
       "</div>"
      ],
      "text/plain": [
       "   Age  Sex  Chest pain type   BP  Cholesterol  FBS over 120  EKG results  \\\n",
       "0   70    0                4  130          322             0            2   \n",
       "2   57    0                2  124          261             0            0   \n",
       "6   56    0                3  130          256             1            2   \n",
       "7   59    0                4  110          239             0            2   \n",
       "8   60    0                4  140          293             0            2   \n",
       "\n",
       "   Max HR  Exercise angina  ST depression  Slope of ST  \\\n",
       "0     109                0            2.4            2   \n",
       "2     141                0            0.3            1   \n",
       "6     142                1            0.6            2   \n",
       "7     142                1            1.2            2   \n",
       "8     170                0            1.2            2   \n",
       "\n",
       "   Number of vessels fluro  Thallium Heart Disease  \n",
       "0                        3         3      Presence  \n",
       "2                        0         7      Presence  \n",
       "6                        1         6      Presence  \n",
       "7                        1         7      Presence  \n",
       "8                        2         7      Presence  "
      ]
     },
     "execution_count": 44,
     "metadata": {},
     "output_type": "execute_result"
    }
   ],
   "source": [
    "df.loc[(df['Sex']==0) & (df['Heart Disease']==\"Presence\")].head()"
   ]
  },
  {
   "cell_type": "code",
   "execution_count": 31,
   "metadata": {},
   "outputs": [
    {
     "data": {
      "text/html": [
       "<div>\n",
       "<style scoped>\n",
       "    .dataframe tbody tr th:only-of-type {\n",
       "        vertical-align: middle;\n",
       "    }\n",
       "\n",
       "    .dataframe tbody tr th {\n",
       "        vertical-align: top;\n",
       "    }\n",
       "\n",
       "    .dataframe thead th {\n",
       "        text-align: right;\n",
       "    }\n",
       "</style>\n",
       "<table border=\"1\" class=\"dataframe\">\n",
       "  <thead>\n",
       "    <tr style=\"text-align: right;\">\n",
       "      <th></th>\n",
       "      <th>Age</th>\n",
       "      <th>Chest pain type</th>\n",
       "      <th>BP</th>\n",
       "      <th>Cholesterol</th>\n",
       "      <th>FBS over 120</th>\n",
       "      <th>EKG results</th>\n",
       "      <th>Max HR</th>\n",
       "      <th>Exercise angina</th>\n",
       "      <th>ST depression</th>\n",
       "      <th>Slope of ST</th>\n",
       "      <th>Number of vessels fluro</th>\n",
       "      <th>Thallium</th>\n",
       "    </tr>\n",
       "    <tr>\n",
       "      <th>Sex</th>\n",
       "      <th></th>\n",
       "      <th></th>\n",
       "      <th></th>\n",
       "      <th></th>\n",
       "      <th></th>\n",
       "      <th></th>\n",
       "      <th></th>\n",
       "      <th></th>\n",
       "      <th></th>\n",
       "      <th></th>\n",
       "      <th></th>\n",
       "      <th></th>\n",
       "    </tr>\n",
       "  </thead>\n",
       "  <tbody>\n",
       "    <tr>\n",
       "      <th>0</th>\n",
       "      <td>54.582090</td>\n",
       "      <td>2.910448</td>\n",
       "      <td>128.283582</td>\n",
       "      <td>257.208955</td>\n",
       "      <td>0.089552</td>\n",
       "      <td>0.880597</td>\n",
       "      <td>154.835821</td>\n",
       "      <td>0.119403</td>\n",
       "      <td>0.568657</td>\n",
       "      <td>1.402985</td>\n",
       "      <td>0.313433</td>\n",
       "      <td>3.119403</td>\n",
       "    </tr>\n",
       "    <tr>\n",
       "      <th>1</th>\n",
       "      <td>54.384236</td>\n",
       "      <td>3.261084</td>\n",
       "      <td>132.354680</td>\n",
       "      <td>247.167488</td>\n",
       "      <td>0.167488</td>\n",
       "      <td>1.068966</td>\n",
       "      <td>147.975369</td>\n",
       "      <td>0.399015</td>\n",
       "      <td>1.208867</td>\n",
       "      <td>1.645320</td>\n",
       "      <td>0.788177</td>\n",
       "      <td>5.216749</td>\n",
       "    </tr>\n",
       "  </tbody>\n",
       "</table>\n",
       "</div>"
      ],
      "text/plain": [
       "           Age  Chest pain type          BP  Cholesterol  FBS over 120  \\\n",
       "Sex                                                                      \n",
       "0    54.582090         2.910448  128.283582   257.208955      0.089552   \n",
       "1    54.384236         3.261084  132.354680   247.167488      0.167488   \n",
       "\n",
       "     EKG results      Max HR  Exercise angina  ST depression  Slope of ST  \\\n",
       "Sex                                                                         \n",
       "0       0.880597  154.835821         0.119403       0.568657     1.402985   \n",
       "1       1.068966  147.975369         0.399015       1.208867     1.645320   \n",
       "\n",
       "     Number of vessels fluro  Thallium  \n",
       "Sex                                     \n",
       "0                   0.313433  3.119403  \n",
       "1                   0.788177  5.216749  "
      ]
     },
     "execution_count": 31,
     "metadata": {},
     "output_type": "execute_result"
    }
   ],
   "source": [
    "df.groupby('Sex').mean()"
=======
     "ename": "TypeError",
     "evalue": "Empty 'DataFrame': no numeric data to plot",
     "output_type": "error",
     "traceback": [
      "\u001b[1;31m---------------------------------------------------------------------------\u001b[0m",
      "\u001b[1;31mTypeError\u001b[0m                                 Traceback (most recent call last)",
      "\u001b[1;32m<ipython-input-42-27669f8534dc>\u001b[0m in \u001b[0;36m<module>\u001b[1;34m\u001b[0m\n\u001b[1;32m----> 1\u001b[1;33m \u001b[0mdf\u001b[0m\u001b[1;33m[\u001b[0m\u001b[1;34m'Heart Disease'\u001b[0m\u001b[1;33m]\u001b[0m\u001b[1;33m.\u001b[0m\u001b[0mplot\u001b[0m\u001b[1;33m(\u001b[0m\u001b[0mkind\u001b[0m\u001b[1;33m=\u001b[0m\u001b[1;34m'hist'\u001b[0m\u001b[1;33m)\u001b[0m\u001b[1;33m\u001b[0m\u001b[1;33m\u001b[0m\u001b[0m\n\u001b[0m",
      "\u001b[1;32m~\\Anaconda3\\lib\\site-packages\\pandas\\plotting\\_core.py\u001b[0m in \u001b[0;36m__call__\u001b[1;34m(self, kind, ax, figsize, use_index, title, grid, legend, style, logx, logy, loglog, xticks, yticks, xlim, ylim, rot, fontsize, colormap, table, yerr, xerr, label, secondary_y, **kwds)\u001b[0m\n\u001b[0;32m   2740\u001b[0m                            \u001b[0mcolormap\u001b[0m\u001b[1;33m=\u001b[0m\u001b[0mcolormap\u001b[0m\u001b[1;33m,\u001b[0m \u001b[0mtable\u001b[0m\u001b[1;33m=\u001b[0m\u001b[0mtable\u001b[0m\u001b[1;33m,\u001b[0m \u001b[0myerr\u001b[0m\u001b[1;33m=\u001b[0m\u001b[0myerr\u001b[0m\u001b[1;33m,\u001b[0m\u001b[1;33m\u001b[0m\u001b[1;33m\u001b[0m\u001b[0m\n\u001b[0;32m   2741\u001b[0m                            \u001b[0mxerr\u001b[0m\u001b[1;33m=\u001b[0m\u001b[0mxerr\u001b[0m\u001b[1;33m,\u001b[0m \u001b[0mlabel\u001b[0m\u001b[1;33m=\u001b[0m\u001b[0mlabel\u001b[0m\u001b[1;33m,\u001b[0m \u001b[0msecondary_y\u001b[0m\u001b[1;33m=\u001b[0m\u001b[0msecondary_y\u001b[0m\u001b[1;33m,\u001b[0m\u001b[1;33m\u001b[0m\u001b[1;33m\u001b[0m\u001b[0m\n\u001b[1;32m-> 2742\u001b[1;33m                            **kwds)\n\u001b[0m\u001b[0;32m   2743\u001b[0m     \u001b[0m__call__\u001b[0m\u001b[1;33m.\u001b[0m\u001b[0m__doc__\u001b[0m \u001b[1;33m=\u001b[0m \u001b[0mplot_series\u001b[0m\u001b[1;33m.\u001b[0m\u001b[0m__doc__\u001b[0m\u001b[1;33m\u001b[0m\u001b[1;33m\u001b[0m\u001b[0m\n\u001b[0;32m   2744\u001b[0m \u001b[1;33m\u001b[0m\u001b[0m\n",
      "\u001b[1;32m~\\Anaconda3\\lib\\site-packages\\pandas\\plotting\\_core.py\u001b[0m in \u001b[0;36mplot_series\u001b[1;34m(data, kind, ax, figsize, use_index, title, grid, legend, style, logx, logy, loglog, xticks, yticks, xlim, ylim, rot, fontsize, colormap, table, yerr, xerr, label, secondary_y, **kwds)\u001b[0m\n\u001b[0;32m   1996\u001b[0m                  \u001b[0myerr\u001b[0m\u001b[1;33m=\u001b[0m\u001b[0myerr\u001b[0m\u001b[1;33m,\u001b[0m \u001b[0mxerr\u001b[0m\u001b[1;33m=\u001b[0m\u001b[0mxerr\u001b[0m\u001b[1;33m,\u001b[0m\u001b[1;33m\u001b[0m\u001b[1;33m\u001b[0m\u001b[0m\n\u001b[0;32m   1997\u001b[0m                  \u001b[0mlabel\u001b[0m\u001b[1;33m=\u001b[0m\u001b[0mlabel\u001b[0m\u001b[1;33m,\u001b[0m \u001b[0msecondary_y\u001b[0m\u001b[1;33m=\u001b[0m\u001b[0msecondary_y\u001b[0m\u001b[1;33m,\u001b[0m\u001b[1;33m\u001b[0m\u001b[1;33m\u001b[0m\u001b[0m\n\u001b[1;32m-> 1998\u001b[1;33m                  **kwds)\n\u001b[0m\u001b[0;32m   1999\u001b[0m \u001b[1;33m\u001b[0m\u001b[0m\n\u001b[0;32m   2000\u001b[0m \u001b[1;33m\u001b[0m\u001b[0m\n",
      "\u001b[1;32m~\\Anaconda3\\lib\\site-packages\\pandas\\plotting\\_core.py\u001b[0m in \u001b[0;36m_plot\u001b[1;34m(data, x, y, subplots, ax, kind, **kwds)\u001b[0m\n\u001b[0;32m   1799\u001b[0m         \u001b[0mplot_obj\u001b[0m \u001b[1;33m=\u001b[0m \u001b[0mklass\u001b[0m\u001b[1;33m(\u001b[0m\u001b[0mdata\u001b[0m\u001b[1;33m,\u001b[0m \u001b[0msubplots\u001b[0m\u001b[1;33m=\u001b[0m\u001b[0msubplots\u001b[0m\u001b[1;33m,\u001b[0m \u001b[0max\u001b[0m\u001b[1;33m=\u001b[0m\u001b[0max\u001b[0m\u001b[1;33m,\u001b[0m \u001b[0mkind\u001b[0m\u001b[1;33m=\u001b[0m\u001b[0mkind\u001b[0m\u001b[1;33m,\u001b[0m \u001b[1;33m**\u001b[0m\u001b[0mkwds\u001b[0m\u001b[1;33m)\u001b[0m\u001b[1;33m\u001b[0m\u001b[1;33m\u001b[0m\u001b[0m\n\u001b[0;32m   1800\u001b[0m \u001b[1;33m\u001b[0m\u001b[0m\n\u001b[1;32m-> 1801\u001b[1;33m     \u001b[0mplot_obj\u001b[0m\u001b[1;33m.\u001b[0m\u001b[0mgenerate\u001b[0m\u001b[1;33m(\u001b[0m\u001b[1;33m)\u001b[0m\u001b[1;33m\u001b[0m\u001b[1;33m\u001b[0m\u001b[0m\n\u001b[0m\u001b[0;32m   1802\u001b[0m     \u001b[0mplot_obj\u001b[0m\u001b[1;33m.\u001b[0m\u001b[0mdraw\u001b[0m\u001b[1;33m(\u001b[0m\u001b[1;33m)\u001b[0m\u001b[1;33m\u001b[0m\u001b[1;33m\u001b[0m\u001b[0m\n\u001b[0;32m   1803\u001b[0m     \u001b[1;32mreturn\u001b[0m \u001b[0mplot_obj\u001b[0m\u001b[1;33m.\u001b[0m\u001b[0mresult\u001b[0m\u001b[1;33m\u001b[0m\u001b[1;33m\u001b[0m\u001b[0m\n",
      "\u001b[1;32m~\\Anaconda3\\lib\\site-packages\\pandas\\plotting\\_core.py\u001b[0m in \u001b[0;36mgenerate\u001b[1;34m(self)\u001b[0m\n\u001b[0;32m    247\u001b[0m     \u001b[1;32mdef\u001b[0m \u001b[0mgenerate\u001b[0m\u001b[1;33m(\u001b[0m\u001b[0mself\u001b[0m\u001b[1;33m)\u001b[0m\u001b[1;33m:\u001b[0m\u001b[1;33m\u001b[0m\u001b[1;33m\u001b[0m\u001b[0m\n\u001b[0;32m    248\u001b[0m         \u001b[0mself\u001b[0m\u001b[1;33m.\u001b[0m\u001b[0m_args_adjust\u001b[0m\u001b[1;33m(\u001b[0m\u001b[1;33m)\u001b[0m\u001b[1;33m\u001b[0m\u001b[1;33m\u001b[0m\u001b[0m\n\u001b[1;32m--> 249\u001b[1;33m         \u001b[0mself\u001b[0m\u001b[1;33m.\u001b[0m\u001b[0m_compute_plot_data\u001b[0m\u001b[1;33m(\u001b[0m\u001b[1;33m)\u001b[0m\u001b[1;33m\u001b[0m\u001b[1;33m\u001b[0m\u001b[0m\n\u001b[0m\u001b[0;32m    250\u001b[0m         \u001b[0mself\u001b[0m\u001b[1;33m.\u001b[0m\u001b[0m_setup_subplots\u001b[0m\u001b[1;33m(\u001b[0m\u001b[1;33m)\u001b[0m\u001b[1;33m\u001b[0m\u001b[1;33m\u001b[0m\u001b[0m\n\u001b[0;32m    251\u001b[0m         \u001b[0mself\u001b[0m\u001b[1;33m.\u001b[0m\u001b[0m_make_plot\u001b[0m\u001b[1;33m(\u001b[0m\u001b[1;33m)\u001b[0m\u001b[1;33m\u001b[0m\u001b[1;33m\u001b[0m\u001b[0m\n",
      "\u001b[1;32m~\\Anaconda3\\lib\\site-packages\\pandas\\plotting\\_core.py\u001b[0m in \u001b[0;36m_compute_plot_data\u001b[1;34m(self)\u001b[0m\n\u001b[0;32m    365\u001b[0m         \u001b[1;32mif\u001b[0m \u001b[0mis_empty\u001b[0m\u001b[1;33m:\u001b[0m\u001b[1;33m\u001b[0m\u001b[1;33m\u001b[0m\u001b[0m\n\u001b[0;32m    366\u001b[0m             raise TypeError('Empty {0!r}: no numeric data to '\n\u001b[1;32m--> 367\u001b[1;33m                             'plot'.format(numeric_data.__class__.__name__))\n\u001b[0m\u001b[0;32m    368\u001b[0m \u001b[1;33m\u001b[0m\u001b[0m\n\u001b[0;32m    369\u001b[0m         \u001b[0mself\u001b[0m\u001b[1;33m.\u001b[0m\u001b[0mdata\u001b[0m \u001b[1;33m=\u001b[0m \u001b[0mnumeric_data\u001b[0m\u001b[1;33m\u001b[0m\u001b[1;33m\u001b[0m\u001b[0m\n",
      "\u001b[1;31mTypeError\u001b[0m: Empty 'DataFrame': no numeric data to plot"
     ]
    }
   ],
   "source": [
    "df['Heart Disease']"
>>>>>>> 580d66bfde26e8722ba934ca011d332963f4fea3
   ]
  },
  {
   "cell_type": "code",
   "execution_count": null,
   "metadata": {},
   "outputs": [],
   "source": []
  }
 ],
 "metadata": {
  "kernelspec": {
   "display_name": "Python 3",
   "language": "python",
   "name": "python3"
  },
  "language_info": {
   "codemirror_mode": {
    "name": "ipython",
    "version": 3
   },
   "file_extension": ".py",
   "mimetype": "text/x-python",
   "name": "python",
   "nbconvert_exporter": "python",
   "pygments_lexer": "ipython3",
   "version": "3.7.3"
  }
 },
 "nbformat": 4,
 "nbformat_minor": 2
}
